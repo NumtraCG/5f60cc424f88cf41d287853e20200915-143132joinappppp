{
 "cells": [
  {
   "cell_type": "markdown",
   "metadata": {},
   "source": [
    "***GENERATED CODE FOR joinappppp PIPELINE.***"
   ]
  },
  {
   "cell_type": "markdown",
   "metadata": {},
   "source": [
    "***DON'T EDIT THIS CODE.***"
   ]
  },
  {
   "cell_type": "markdown",
   "metadata": {},
   "source": [
    "***CONNECTOR FUNCTIONS TO READ DATA FROM DATABRICKS FILESYSTEM.***"
   ]
  },
  {
   "cell_type": "code",
   "execution_count": null,
   "metadata": {},
   "outputs": [],
   "source": [
    "import datetime\n",
    "import logging\n",
    "import warnings\n",
    "warnings.filterwarnings('ignore')\n",
    "logging.basicConfig(format='%(levelname)s:%(message)s', level=logging.INFO)\n",
    "\n",
    "\n",
    "class HDFSConnector:\n",
    "\n",
    "    def fetch(spark, config):\n",
    "        df = spark.read.\\\n",
    "            options(header='true' if eval(config)[\"is_header\"] == \"Use Header Line\" else 'false',\n",
    "                    inferschema='true',\n",
    "                    delimiter=eval(config)[\"delimiter\"])\\\n",
    "            .csv(\"hdfs://34.83.203.43:54310\"+eval(config)['url'])\n",
    "        display(df.limit(2).toPandas())\n",
    "        return df\n",
    "\n",
    "    def put(df, spark, config):\n",
    "        return df.write.format('csv').options(header='true' if eval(config)[\"is_header\"] == \"Use Header Line\" else 'false',\n",
    "                                              delimiter=eval(config)[\"delimiter\"]).save((\"%s %s\") % (datetime.datetime.now().strftime(\"%Y-%m-%d %H.%M.%S\")+\"_\", eval(config)['url']))\n"
   ]
  },
  {
   "cell_type": "markdown",
   "metadata": {},
   "source": [
    "***OPERATION FUNCTIONS***"
   ]
  },
  {
   "cell_type": "code",
   "execution_count": null,
   "metadata": {},
   "outputs": [],
   "source": [
    "from pyspark.sql import functions as F\n",
    "\n",
    "\n",
    "def QueryBuilder(spark, joindatalist, paths):\n",
    "    listOfDfnames = {}\n",
    "    for path in paths:\n",
    "        listOfDfnames[path['sourcename']] = spark.read.options(\n",
    "            header='true', inferschema='true', delimiter=',').csv('dbfs:' + path['sourcepath'])\n",
    "    for join in joindatalist:\n",
    "        dfA = listOfDfnames[join['sourceA']['sourcename']]\n",
    "        dfB = listOfDfnames[join['sourceB']['sourcename']]\n",
    "        f1 = 'a.' + join['sourceA']['fieldname'].replace(\" \", \"\")\n",
    "        f2 = 'b.' + join['sourceB']['fieldname'].replace(\" \", \"\")\n",
    "        listOfDfnames[join['sourceA']['sourcename'] + '_' + join['sourceB']['sourcename']] = removeIfDuplicates(dfA.alias('a').join(\n",
    "            dfB.alias('b'), F.col(f1) == F.col(f2),\n",
    "            how=join['joinName']))\n",
    "        joinedDf = listOfDfnames[join['sourceA']\n",
    "                                 ['sourcename'] + '_' + join['sourceB']['sourcename']]\n",
    "    df = removeIfDuplicates(joinedDf)\n",
    "    print(display(df.limit(2).toPandas()))\n",
    "    return df\n",
    "\n",
    "\n",
    "def removeIfDuplicates(joinedDf):\n",
    "    cols_new = []\n",
    "    seen = set()\n",
    "    for c in joinedDf.columns:\n",
    "        cols_new.append('{}_dup'.format(c) if c in seen else c)\n",
    "        seen.add(c)\n",
    "    df = joinedDf.toDF(*cols_new).select(*\n",
    "                                         [c for c in cols_new if not c.endswith('_dup')])\n",
    "    return df\n"
   ]
  },
  {
   "cell_type": "markdown",
   "metadata": {},
   "source": [
    "***TRANSFORMATIONS FUNCTIONS THAT WILL BE APPLIED ON DATA***"
   ]
  },
  {
   "cell_type": "code",
   "execution_count": null,
   "metadata": {},
   "outputs": [],
   "source": [
    "import json\n",
    "from pyspark.sql.functions import col, when\n",
    "from pyspark.sql.functions import mean, stddev, min, max, col\n",
    "\n",
    "\n",
    "class CleanseData:\n",
    "    # def __init__(self,df):\n",
    "    #     #print()\n",
    "\n",
    "    def replaceByMean(self, feature, df, mean_=-1):\n",
    "\n",
    "        meanValue = df.select(mean(col(feature.name)).alias(\n",
    "            'mean')).collect()[0][\"mean\"]\n",
    "        df.fillna(meanValue, subset=[feature.name])\n",
    "        df.withColumn(feature.name, when(col(feature.name) == \" \",\n",
    "                                         meanValue).otherwise(col(feature.name).cast(\"Integer\")))\n",
    "        return df\n",
    "\n",
    "    def replaceByMax(self, feature, df, max_=-1):\n",
    "        maxValue = df.select(max(col(feature.name)).alias('max')).collect()[\n",
    "            0][\"max\"]\n",
    "        df.fillna(maxValue, subset=[feature.name])\n",
    "        df = df.withColumn(feature.name,\n",
    "                           when(col(feature.name) == \" \", maxValue).otherwise(col(feature.name)))\n",
    "        return df\n",
    "\n",
    "    def replaceByMin(self, feature, df, min_=-1):\n",
    "        minValue = df.select(min(col(feature.name)).alias('min')).collect()[\n",
    "            0][\"min\"]\n",
    "        df.fillna(minValue, subset=[feature.name])\n",
    "        df = df.withColumn(feature.name,\n",
    "                           when(col(feature.name) == \" \", minValue).otherwise(col(feature.name)))\n",
    "        return df\n",
    "\n",
    "    def replaceByStandardDeviation(self, feature, df, stddev_=-1):\n",
    "        stddevValue = df.select(stddev(col(feature.name)).alias(\n",
    "            'stddev')).collect()[0][\"stddev\"]\n",
    "        df.fillna(stddevValue, subset=[feature.name])\n",
    "        df = df.withColumn(feature.name,\n",
    "                           when(col(feature.name) == \" \", stddevValue).otherwise(col(feature.name)))\n",
    "        return df\n",
    "\n",
    "    def replaceDateRandomly(self, feature, df):\n",
    "        fillValue = df.where(col(feature.name).isNotNull()\n",
    "                             ).head(1)[0][feature.name]\n",
    "        df.fillna(str(fillValue), subset=[feature.name])\n",
    "        df = df.withColumn(feature.name,\n",
    "                           when(col(feature.name) == \" \", fillValue).otherwise(col(feature.name)))\n",
    "        # print(\"CleanseData:replaceDateRandomly Schema : \", df.#printSchema())\n",
    "        return df\n",
    "\n",
    "    def replaceNullValues(self, fList, df):\n",
    "        featuresList = df.schema.fields\n",
    "        for featureObj in fList:\n",
    "            for feat in featuresList:\n",
    "                if featureObj[\"feature\"] in feat.name:\n",
    "                    featureName = feat\n",
    "                    if \"mean\" in featureObj[\"replaceby\"]:\n",
    "                        df = self.replaceByMean(featureName, df)\n",
    "                    elif \"max\" in featureObj[\"replaceby\"]:\n",
    "                        df = self.replaceByMax(featureName, df)\n",
    "                    elif \"min\" in featureObj[\"replaceby\"]:\n",
    "                        df = self.replaceByMin(featureName, df)\n",
    "                    elif \"stddev\" in featureObj[\"replaceby\"]:\n",
    "                        df = self.replaceByStandardDeviation(featureName, df)\n",
    "                    elif \"random\" in featureObj[\"replaceby\"]:\n",
    "                        df = self.replaceDateRandomly(featureName, df)\n",
    "        return df\n",
    "\n",
    "\n",
    "class TransformationMain:\n",
    "    # TODO: change df argument in run with following\n",
    "    def run(transformationDF, config):\n",
    "        configObj = json.loads(config)\n",
    "        featureData = configObj[\"FE\"]\n",
    "        transformationDF = CleanseData().replaceNullValues(featureData, transformationDF)\n",
    "        display(transformationDF.limit(2).toPandas())\n",
    "        return transformationDF\n"
   ]
  },
  {
   "cell_type": "markdown",
   "metadata": {},
   "source": [
    "***AUTOML FUNCTIONS***"
   ]
  },
  {
   "cell_type": "code",
   "execution_count": null,
   "metadata": {},
   "outputs": [],
   "source": [
    "from tpot import TPOTClassifier\n",
    "from sklearn.model_selection import train_test_split\n",
    "import pyspark\n",
    "\n",
    "\n",
    "def functionClassification(sparkDF, listOfFeatures, label):\n",
    "    sparkDF.persist(pyspark.StorageLevel.MEMORY_AND_DISK)\n",
    "    df = (sparkDF.toPandas())\n",
    "    X = (df.drop(label, axis=1))[listOfFeatures].values\n",
    "    y = df[label].values\n",
    "    X_train, X_test, y_train, y_test = train_test_split(\n",
    "        X, y, random_state=1, test_size=0.1)\n",
    "    tpotModel = TPOTClassifier(verbosity=3, n_jobs=-1, generations=10, max_time_mins=5,\n",
    "                               population_size=15)\n",
    "    tpotModel.fit(X_train, y_train)\n",
    "    display(\" Accuracy of Model : %s\" % tpotModel.score(X_test, y_test))\n",
    "    data = {'model': tpotModel,\n",
    "            'X_test': X_test,\n",
    "            'y_test': y_test,\n",
    "            'label': label,\n",
    "            'columnNames': listOfFeatures}\n",
    "    return data\n"
   ]
  },
  {
   "cell_type": "markdown",
   "metadata": {},
   "source": [
    "***READING DATAFRAME***"
   ]
  },
  {
   "cell_type": "code",
   "execution_count": null,
   "metadata": {},
   "outputs": [],
   "source": [
    "from pyspark.sql import SparkSession\n",
    "spark = SparkSession.builder.getOrCreate()\n",
    "\n",
    "#%run joinapppppHooks.ipynb\n",
    "try:\n",
    "\t#sourcePreExecutionHook()\n",
    "\t\tcampaign = HDFSConnector.fetch(spark, \"{'is_header': 'Use Header Line', 'file_type': 'Delimeted', 'domain': '', 'url': '/FileStore/platform/Data/TrainData/couponredemption/campaign.csv', 'filename': 'campaign.csv', 'token': '', 'delimiter': ','}\")\n",
    "\n",
    "\n",
    "\t\tcoupon = HDFSConnector.fetch(spark, \"{'is_header': 'Use Header Line', 'file_type': 'Delimeted', 'domain': '', 'url': '/FileStore/platform/Data/TrainData/couponredemption/coupon.csv', 'filename': 'coupon.csv', 'token': '', 'delimiter': ','}\")\n",
    "\n",
    "\n",
    "\t\tcustdemo = HDFSConnector.fetch(spark, \"{'is_header': 'Use Header Line', 'file_type': 'Delimeted', 'domain': '', 'url': '/FileStore/platform/Data/TrainData/couponredemption/cust_demo.csv', 'filename': 'cust_demo.csv', 'token': '', 'delimiter': ','}\")\n",
    "\n",
    "\n",
    "\t\ttrain = HDFSConnector.fetch(spark, \"{'is_header': 'Use Header Line', 'file_type': 'Delimeted', 'domain': '', 'url': '/FileStore/platform/Data/TrainData/couponredemption/train.csv', 'filename': 'train.csv', 'token': '', 'delimiter': ','}\")\n",
    "\n",
    "\n",
    "\n",
    "\ttransactions = HDFSConnector.fetch(spark, \"{'is_header': 'Use Header Line', 'file_type': 'Delimeted', 'domain': '', 'url': '/FileStore/platform/Data/TrainData/couponredemption/transactions.csv', 'filename': 'transactions.csv', 'token': '', 'delimiter': ','}\")\n",
    "\t#sourcePostExecutionHook(transactions)\n",
    "\n",
    "except Exception as ex: \n",
    "\tlogging.error(ex)\n"
   ]
  },
  {
   "cell_type": "markdown",
   "metadata": {},
   "source": [
    "***PERFORMING OPERATIONS***"
   ]
  },
  {
   "cell_type": "code",
   "execution_count": null,
   "metadata": {},
   "outputs": [],
   "source": [
    "#%run joinapppppHooks.ipynb\n",
    "try:\n",
    "\t#operationPreExecutionHook()\n",
    "\n",
    "\tjoindata = QueryBuilder(spark,[{\"sourceA\": {\"sourceid\": \"5f60cc5a4f88cf41d2878544\", \"fieldname\": \"coupon_id\", \"sourcepath\": \"/FileStore/platform/Data/TrainData/couponredemption/train.csv\", \"sourcename\": \"train\"}, \"sourceB\": {\"sourceid\": \"5f60cc554f88cf41d2878542\", \"fieldname\": \"coupon_id\", \"sourcepath\": \"/FileStore/platform/Data/TrainData/couponredemption/coupon.csv\", \"sourcename\": \"coupon\"}, \"joinName\": \"inner\"}, {\"sourceA\": {\"sourceid\": \"5f60cc5a4f88cf41d2878544_5f60cc554f88cf41d2878542\", \"fieldname\": \"campaign_id\", \"sourcepath\": \"\", \"sourcename\": \"train_coupon\"}, \"sourceB\": {\"sourceid\": \"5f60cc424f88cf41d287853f\", \"fieldname\": \"campaign_id\", \"sourcepath\": \"/FileStore/platform/Data/TrainData/couponredemption/campaign.csv\", \"sourcename\": \"campaign\"}, \"joinName\": \"inner\"}, {\"sourceA\": {\"sourceid\": \"5f60cc5a4f88cf41d2878544_5f60cc554f88cf41d2878542_5f60cc424f88cf41d287853f\", \"fieldname\": \"customer_id\", \"sourcepath\": \"\", \"sourcename\": \"train_coupon_campaign\"}, \"sourceB\": {\"sourceid\": \"5f60cc574f88cf41d2878543\", \"fieldname\": \"customer_id\", \"sourcepath\": \"/FileStore/platform/Data/TrainData/couponredemption/cust_demo.csv\", \"sourcename\": \"cust_demo\"}, \"joinName\": \"inner\"}, {\"sourceA\": {\"sourceid\": \"5f60cc5a4f88cf41d2878544_5f60cc554f88cf41d2878542_5f60cc424f88cf41d287853f_5f60cc574f88cf41d2878543\", \"fieldname\": \"customer_id\", \"sourcepath\": \"\", \"sourcename\": \"train_coupon_campaign_cust_demo\"}, \"sourceB\": {\"sourceid\": \"5f60cc5c4f88cf41d2878545\", \"fieldname\": \"customer_id\", \"sourcepath\": \"/FileStore/platform/Data/TrainData/couponredemption/transactions.csv\", \"sourcename\": \"transactions\"}, \"joinName\": \"inner\"}],[{'sourcename': 'train', 'sourcepath': '/FileStore/platform/Data/TrainData/couponredemption/train.csv'}, {'sourcename': 'coupon', 'sourcepath': '/FileStore/platform/Data/TrainData/couponredemption/coupon.csv'}, {'sourcename': 'campaign', 'sourcepath': '/FileStore/platform/Data/TrainData/couponredemption/campaign.csv'}, {'sourcename': 'cust_demo', 'sourcepath': '/FileStore/platform/Data/TrainData/couponredemption/cust_demo.csv'}, {'sourcename': 'transactions', 'sourcepath': '/FileStore/platform/Data/TrainData/couponredemption/transactions.csv'}])\n",
    "\t#operationPostExecutionHook(joindata)\n",
    "\n",
    "except Exception as ex: \n",
    "\tlogging.error(ex)\n"
   ]
  },
  {
   "cell_type": "markdown",
   "metadata": {},
   "source": [
    "***TRANSFORMING DATAFRAME***"
   ]
  },
  {
   "cell_type": "code",
   "execution_count": null,
   "metadata": {},
   "outputs": [],
   "source": [
    "#%run joinapppppHooks.ipynb\n",
    "try:\n",
    "\t#transformationPreExecutionHook()\n",
    "\n",
    "\tautofe = TransformationMain.run(joindata,json.dumps( {\"FE\": [{\"transformationsData\": [{\"transformation_label\": \"novalue\"}], \"feature\": \"coupon_id\", \"transformation\": [{\"transformation\": \"novalue\", \"selectedAsDefault\": 1}], \"type\": \"numeric\", \"replaceby\": \"mean\", \"selected\": \"True\", \"stats\": {\"count\": \"4366\", \"mean\": \"560.95\", \"stddev\": \"327.66\", \"min\": \"1\", \"max\": \"1115\", \"missing\": \"0\"}, \"updatedLabel\": \"coupon_id\"}, {\"transformationsData\": [{\"transformation_label\": \"novalue\"}], \"feature\": \"customer_id\", \"transformation\": [{\"transformation\": \"novalue\", \"selectedAsDefault\": 1}], \"type\": \"numeric\", \"replaceby\": \"mean\", \"selected\": \"True\", \"stats\": {\"count\": \"4366\", \"mean\": \"781.17\", \"stddev\": \"460.76\", \"min\": \"1\", \"max\": \"1581\", \"missing\": \"0\"}, \"updatedLabel\": \"customer_id\"}, {\"transformationsData\": [{\"transformation_label\": \"novalue\"}], \"feature\": \"redemption_status\", \"transformation\": [{\"transformation\": \"novalue\", \"selectedAsDefault\": 1}], \"type\": \"numeric\", \"replaceby\": \"mean\", \"selected\": \"True\", \"stats\": {\"count\": \"4366\", \"mean\": \"0.01\", \"stddev\": \"0.11\", \"min\": \"0\", \"max\": \"1\", \"missing\": \"0\"}, \"updatedLabel\": \"redemption_status\"}, {\"transformationsData\": [{\"transformation_label\": \"novalue\"}], \"feature\": \"brand\", \"transformation\": [{\"transformation\": \"novalue\", \"selectedAsDefault\": 1}], \"type\": \"numeric\", \"replaceby\": \"mean\", \"selected\": \"True\", \"stats\": {\"count\": \"4366\", \"mean\": \"1062.37\", \"stddev\": \"1362.01\", \"min\": \"1\", \"max\": \"5391\", \"missing\": \"0\"}, \"updatedLabel\": \"brand\"}, {\"transformationsData\": [{\"transformation_label\": \"novalue\"}], \"feature\": \"brand_type\", \"transformation\": [{\"transformation\": \"novalue\", \"selectedAsDefault\": 1}], \"type\": \"numeric\", \"replaceby\": \"mean\", \"selected\": \"True\", \"stats\": {\"count\": \"4366\", \"mean\": \"0.21\", \"stddev\": \"0.41\", \"min\": \"0\", \"max\": \"1\", \"missing\": \"0\"}, \"updatedLabel\": \"brand_type\"}, {\"transformationsData\": [{\"transformation_label\": \"novalue\"}], \"feature\": \"category\", \"transformation\": [{\"transformation\": \"novalue\", \"selectedAsDefault\": 1}], \"type\": \"numeric\", \"replaceby\": \"mean\", \"selected\": \"True\", \"stats\": {\"count\": \"4366\", \"mean\": \"7.38\", \"stddev\": \"2.53\", \"min\": \"1\", \"max\": \"16\", \"missing\": \"0\"}, \"updatedLabel\": \"category\"}, {\"transformationsData\": [{\"transformation_label\": \"novalue\"}], \"feature\": \"cd_sum\", \"type\": \"real\", \"selected\": \"True\", \"replaceby\": \"mean\", \"stats\": {\"count\": \"4366\", \"mean\": \"-1512.39\", \"stddev\": \"7766.18\", \"min\": \"-113627.33999999987\", \"max\": \"0.0\", \"missing\": \"0\"}, \"transformation\": [{\"transformation\": \"novalue\", \"selectedAsDefault\": 1}], \"updatedLabel\": \"cd_sum\"}, {\"transformationsData\": [{\"transformation_label\": \"novalue\"}], \"feature\": \"coupon_discount\", \"type\": \"real\", \"selected\": \"True\", \"replaceby\": \"mean\", \"stats\": {\"count\": \"4366\", \"mean\": \"-2.22\", \"stddev\": \"5.89\", \"min\": \"-71.24\", \"max\": \"0.0\", \"missing\": \"0\"}, \"transformation\": [{\"transformation\": \"novalue\", \"selectedAsDefault\": 1}], \"updatedLabel\": \"coupon_discount\"}, {\"transformationsData\": [{\"transformation_label\": \"novalue\"}], \"feature\": \"coupon_used\", \"type\": \"real\", \"selected\": \"True\", \"replaceby\": \"mean\", \"stats\": {\"count\": \"4366\", \"mean\": \"44.36\", \"stddev\": \"212.66\", \"min\": \"0.0\", \"max\": \"2661.0\", \"missing\": \"0\"}, \"transformation\": [{\"transformation\": \"novalue\", \"selectedAsDefault\": 1}], \"updatedLabel\": \"coupon_used\"}, {\"transformationsData\": [{\"transformation_label\": \"novalue\"}], \"feature\": \"item_counts\", \"transformation\": [{\"transformation\": \"novalue\", \"selectedAsDefault\": 1}], \"type\": \"numeric\", \"replaceby\": \"mean\", \"selected\": \"True\", \"stats\": {\"count\": \"4366\", \"mean\": \"91.96\", \"stddev\": \"708.46\", \"min\": \"1\", \"max\": \"11813\", \"missing\": \"0\"}, \"updatedLabel\": \"item_counts\"}, {\"transformationsData\": [{\"transformation_label\": \"novalue\"}], \"feature\": \"no_of_customers\", \"type\": \"real\", \"selected\": \"True\", \"replaceby\": \"mean\", \"stats\": {\"count\": \"4366\", \"mean\": \"17.82\", \"stddev\": \"13.7\", \"min\": \"1.0\", \"max\": \"118.57142857142857\", \"missing\": \"0\"}, \"transformation\": [{\"transformation\": \"novalue\", \"selectedAsDefault\": 1}], \"updatedLabel\": \"no_of_customers\"}, {\"transformationsData\": [{\"transformation_label\": \"novalue\"}], \"feature\": \"od_sum\", \"type\": \"real\", \"selected\": \"True\", \"replaceby\": \"mean\", \"stats\": {\"count\": \"4366\", \"mean\": \"-34758.27\", \"stddev\": \"201925.78\", \"min\": \"-3259657.797895498\", \"max\": \"0.0\", \"missing\": \"0\"}, \"transformation\": [{\"transformation\": \"novalue\", \"selectedAsDefault\": 1}], \"updatedLabel\": \"od_sum\"}, {\"transformationsData\": [{\"transformation_label\": \"novalue\"}], \"feature\": \"other_discount\", \"type\": \"real\", \"selected\": \"True\", \"replaceby\": \"mean\", \"stats\": {\"count\": \"4366\", \"mean\": \"-20.17\", \"stddev\": \"18.89\", \"min\": \"-481.4993333333333\", \"max\": \"0.0\", \"missing\": \"0\"}, \"transformation\": [{\"transformation\": \"novalue\", \"selectedAsDefault\": 1}], \"updatedLabel\": \"other_discount\"}, {\"transformationsData\": [{\"transformation_label\": \"novalue\"}], \"feature\": \"qu_sum\", \"type\": \"real\", \"selected\": \"True\", \"replaceby\": \"mean\", \"stats\": {\"count\": \"4366\", \"mean\": \"2666.47\", \"stddev\": \"15331.87\", \"min\": \"1.0\", \"max\": \"207579.0\", \"missing\": \"0\"}, \"transformation\": [{\"transformation\": \"novalue\", \"selectedAsDefault\": 1}], \"updatedLabel\": \"qu_sum\"}, {\"transformationsData\": [{\"transformation_label\": \"novalue\"}], \"feature\": \"quantity\", \"type\": \"real\", \"selected\": \"True\", \"replaceby\": \"mean\", \"stats\": {\"count\": \"4366\", \"mean\": \"1.17\", \"stddev\": \"0.26\", \"min\": \"1.0\", \"max\": \"4.096091911309303\", \"missing\": \"0\"}, \"transformation\": [{\"transformation\": \"novalue\", \"selectedAsDefault\": 1}], \"updatedLabel\": \"quantity\"}, {\"transformationsData\": [{\"transformation_label\": \"novalue\"}], \"feature\": \"selling_price\", \"type\": \"real\", \"selected\": \"True\", \"replaceby\": \"mean\", \"stats\": {\"count\": \"4366\", \"mean\": \"160.79\", \"stddev\": \"143.25\", \"min\": \"13.416928746729855\", \"max\": \"1235.863616557734\", \"missing\": \"0\"}, \"transformation\": [{\"transformation\": \"novalue\", \"selectedAsDefault\": 1}], \"updatedLabel\": \"selling_price\"}, {\"transformationsData\": [{\"transformation_label\": \"novalue\"}], \"feature\": \"t_counts\", \"type\": \"real\", \"selected\": \"True\", \"replaceby\": \"mean\", \"stats\": {\"count\": \"4366\", \"mean\": \"2071.81\", \"stddev\": \"11700.0\", \"min\": \"1.0\", \"max\": \"158788.0\", \"missing\": \"0\"}, \"transformation\": [{\"transformation\": \"novalue\", \"selectedAsDefault\": 1}], \"updatedLabel\": \"t_counts\"}, {\"transformationsData\": [{\"transformation_label\": \"novalue\"}], \"feature\": \"total_discount_mean\", \"type\": \"real\", \"selected\": \"True\", \"replaceby\": \"mean\", \"stats\": {\"count\": \"4366\", \"mean\": \"-22.38\", \"stddev\": \"20.46\", \"min\": \"-508.808\", \"max\": \"0.0\", \"missing\": \"0\"}, \"transformation\": [{\"transformation\": \"novalue\", \"selectedAsDefault\": 1}], \"updatedLabel\": \"total_discount_mean\"}, {\"transformationsData\": [{\"transformation_label\": \"novalue\"}], \"feature\": \"total_discount_sum\", \"type\": \"real\", \"selected\": \"True\", \"replaceby\": \"mean\", \"stats\": {\"count\": \"4366\", \"mean\": \"-36270.66\", \"stddev\": \"207671.58\", \"min\": \"-3344221.267895495\", \"max\": \"0.0\", \"missing\": \"0\"}, \"transformation\": [{\"transformation\": \"novalue\", \"selectedAsDefault\": 1}], \"updatedLabel\": \"total_discount_sum\"}, {\"transformationsData\": [{\"transformation_label\": \"novalue\"}], \"feature\": \"campaign_type\", \"transformation\": [{\"transformation\": \"novalue\", \"selectedAsDefault\": 1}], \"type\": \"numeric\", \"replaceby\": \"mean\", \"selected\": \"True\", \"stats\": {\"count\": \"4366\", \"mean\": \"0.29\", \"stddev\": \"0.45\", \"min\": \"0\", \"max\": \"1\", \"missing\": \"0\"}, \"updatedLabel\": \"campaign_type\"}, {\"transformationsData\": [{\"transformation_label\": \"novalue\"}], \"feature\": \"campaign_duration\", \"transformation\": [{\"transformation\": \"novalue\", \"selectedAsDefault\": 1}], \"type\": \"numeric\", \"replaceby\": \"mean\", \"selected\": \"True\", \"stats\": {\"count\": \"4366\", \"mean\": \"44.7\", \"stddev\": \"6.34\", \"min\": \"32\", \"max\": \"63\", \"missing\": \"0\"}, \"updatedLabel\": \"campaign_duration\"}, {\"transformationsData\": [{\"transformation_label\": \"novalue\"}], \"feature\": \"age_range\", \"transformation\": [{\"transformation\": \"novalue\", \"selectedAsDefault\": 1}], \"type\": \"numeric\", \"replaceby\": \"mean\", \"selected\": \"True\", \"stats\": {\"count\": \"4366\", \"mean\": \"2.46\", \"stddev\": \"1.26\", \"min\": \"0\", \"max\": \"5\", \"missing\": \"0\"}, \"updatedLabel\": \"age_range\"}, {\"transformationsData\": [{\"transformation_label\": \"novalue\"}], \"feature\": \"marital_status\", \"transformation\": [{\"transformation\": \"novalue\", \"selectedAsDefault\": 1}], \"type\": \"numeric\", \"replaceby\": \"mean\", \"selected\": \"True\", \"stats\": {\"count\": \"4366\", \"mean\": \"0.4\", \"stddev\": \"0.49\", \"min\": \"0\", \"max\": \"1\", \"missing\": \"0\"}, \"updatedLabel\": \"marital_status\"}, {\"transformationsData\": [{\"transformation_label\": \"novalue\"}], \"feature\": \"rented\", \"transformation\": [{\"transformation\": \"novalue\", \"selectedAsDefault\": 1}], \"type\": \"numeric\", \"replaceby\": \"mean\", \"selected\": \"True\", \"stats\": {\"count\": \"4366\", \"mean\": \"0.05\", \"stddev\": \"0.23\", \"min\": \"0\", \"max\": \"1\", \"missing\": \"0\"}, \"updatedLabel\": \"rented\"}, {\"transformationsData\": [{\"transformation_label\": \"novalue\"}], \"feature\": \"family_size\", \"transformation\": [{\"transformation\": \"novalue\", \"selectedAsDefault\": 1}], \"type\": \"numeric\", \"replaceby\": \"mean\", \"selected\": \"True\", \"stats\": {\"count\": \"4366\", \"mean\": \"2.21\", \"stddev\": \"1.21\", \"min\": \"1\", \"max\": \"5\", \"missing\": \"0\"}, \"updatedLabel\": \"family_size\"}, {\"transformationsData\": [{\"transformation_label\": \"novalue\"}], \"feature\": \"no_of_children\", \"transformation\": [{\"transformation\": \"novalue\", \"selectedAsDefault\": 1}], \"type\": \"numeric\", \"replaceby\": \"mean\", \"selected\": \"True\", \"stats\": {\"count\": \"4366\", \"mean\": \"0.6\", \"stddev\": \"0.97\", \"min\": \"0\", \"max\": \"3\", \"missing\": \"0\"}, \"updatedLabel\": \"no_of_children\"}, {\"transformationsData\": [{\"transformation_label\": \"novalue\"}], \"feature\": \"income_bracket\", \"transformation\": [{\"transformation\": \"novalue\", \"selectedAsDefault\": 1}], \"type\": \"numeric\", \"replaceby\": \"mean\", \"selected\": \"True\", \"stats\": {\"count\": \"4366\", \"mean\": \"4.81\", \"stddev\": \"2.34\", \"min\": \"1\", \"max\": \"12\", \"missing\": \"0\"}, \"updatedLabel\": \"income_bracket\"}, {\"transformationsData\": [{\"transformation_label\": \"novalue\"}], \"feature\": \"day\", \"transformation\": [{\"transformation\": \"novalue\", \"selectedAsDefault\": 1}], \"type\": \"numeric\", \"replaceby\": \"mean\", \"selected\": \"True\", \"stats\": {\"count\": \"4366\", \"mean\": \"15.16\", \"stddev\": \"8.49\", \"min\": \"1\", \"max\": \"31\", \"missing\": \"0\"}, \"updatedLabel\": \"day\"}, {\"transformationsData\": [{\"transformation_label\": \"novalue\"}], \"feature\": \"dow\", \"transformation\": [{\"transformation\": \"novalue\", \"selectedAsDefault\": 1}], \"type\": \"numeric\", \"replaceby\": \"mean\", \"selected\": \"True\", \"stats\": {\"count\": \"4366\", \"mean\": \"3.24\", \"stddev\": \"1.69\", \"min\": \"0\", \"max\": \"6\", \"missing\": \"0\"}, \"updatedLabel\": \"dow\"}, {\"transformationsData\": [{\"transformation_label\": \"novalue\"}], \"feature\": \"no_of_items\", \"transformation\": [{\"transformation\": \"novalue\", \"selectedAsDefault\": 1}], \"type\": \"numeric\", \"replaceby\": \"mean\", \"selected\": \"True\", \"stats\": {\"count\": \"4366\", \"mean\": \"665.88\", \"stddev\": \"331.77\", \"min\": \"97\", \"max\": \"2088\", \"missing\": \"0\"}, \"updatedLabel\": \"no_of_items\"}, {\"transformationsData\": [{\"transformation_label\": \"novalue\"}], \"feature\": \"month\", \"transformation\": [{\"transformation\": \"novalue\", \"selectedAsDefault\": 1}], \"type\": \"numeric\", \"replaceby\": \"mean\", \"selected\": \"True\", \"stats\": {\"count\": \"4366\", \"mean\": \"4.89\", \"stddev\": \"2.17\", \"min\": \"1\", \"max\": \"12\", \"missing\": \"0\"}, \"updatedLabel\": \"month\"}, {\"transformationsData\": [{\"transformation_label\": \"novalue\"}], \"feature\": \"cdd_sum\", \"type\": \"real\", \"selected\": \"True\", \"replaceby\": \"mean\", \"stats\": {\"count\": \"4366\", \"mean\": \"-880.47\", \"stddev\": \"1516.24\", \"min\": \"-11937.8\", \"max\": \"0.0\", \"missing\": \"0\"}, \"transformation\": [{\"transformation\": \"novalue\", \"selectedAsDefault\": 1}], \"updatedLabel\": \"cdd_sum\"}, {\"transformationsData\": [{\"transformation_label\": \"novalue\"}], \"feature\": \"customer_id_count\", \"transformation\": [{\"transformation\": \"novalue\", \"selectedAsDefault\": 1}], \"type\": \"numeric\", \"replaceby\": \"mean\", \"selected\": \"True\", \"stats\": {\"count\": \"4366\", \"mean\": \"1191.29\", \"stddev\": \"666.08\", \"min\": \"144\", \"max\": \"4134\", \"missing\": \"0\"}, \"updatedLabel\": \"customer_id_count\"}, {\"transformationsData\": [{\"transformation_label\": \"novalue\"}], \"feature\": \"odd_sum\", \"type\": \"real\", \"selected\": \"True\", \"replaceby\": \"mean\", \"stats\": {\"count\": \"4366\", \"mean\": \"-16106.6\", \"stddev\": \"9692.94\", \"min\": \"-62321.37241\", \"max\": \"-873.175\", \"missing\": \"0\"}, \"transformation\": [{\"transformation\": \"novalue\", \"selectedAsDefault\": 1}], \"updatedLabel\": \"odd_sum\"}, {\"transformationsData\": [{\"transformation_label\": \"novalue\"}], \"feature\": \"qa_sum\", \"transformation\": [{\"transformation\": \"novalue\", \"selectedAsDefault\": 1}], \"type\": \"numeric\", \"replaceby\": \"mean\", \"selected\": \"True\", \"stats\": {\"count\": \"4366\", \"mean\": \"185516.95\", \"stddev\": \"279637.24\", \"min\": \"179\", \"max\": \"2617544\", \"missing\": \"0\"}, \"updatedLabel\": \"qa_sum\"}]}))\n",
    "\n",
    "\t#transformationPostExecutionHook(autofe)\n",
    "\n",
    "except Exception as ex: \n",
    "\tlogging.error(ex)\n"
   ]
  },
  {
   "cell_type": "markdown",
   "metadata": {},
   "source": [
    "***TRAIN MODEL***"
   ]
  },
  {
   "cell_type": "code",
   "execution_count": null,
   "metadata": {},
   "outputs": [],
   "source": [
    "#%run joinapppppHooks.ipynb\n",
    "try:\n",
    "\t#mlPreExecutionHook()\n",
    "\n",
    "\tdataAutoML=functionClassification(autofe, [\"coupon_id\", \"customer_id\", \"brand\", \"brand_type\", \"category\", \"cd_sum\", \"coupon_discount\", \"coupon_used\", \"item_counts\", \"no_of_customers\", \"od_sum\", \"other_discount\", \"qu_sum\", \"quantity\", \"selling_price\", \"t_counts\", \"total_discount_mean\", \"total_discount_sum\", \"campaign_type\", \"campaign_duration\", \"age_range\", \"marital_status\", \"rented\", \"family_size\", \"no_of_children\", \"income_bracket\", \"day\", \"dow\", \"no_of_items\", \"month\", \"cdd_sum\", \"customer_id_count\", \"odd_sum\", \"qa_sum\"], \"redemption_status\")\n",
    "\n",
    "\t#mlPostExecutionHook(dataAutoML)\n",
    "\n",
    "except Exception as ex: \n",
    "\tlogging.error(ex)\n"
   ]
  },
  {
   "cell_type": "markdown",
   "metadata": {},
   "source": [
    "***PREDICT ON TRAINED MODEL***"
   ]
  },
  {
   "cell_type": "code",
   "execution_count": null,
   "metadata": {},
   "outputs": [],
   "source": [
    "import pandas as pd\n",
    "import numpy as np\n",
    "import sklearn.metrics\n",
    "\n",
    "try:\n",
    "    model=dataAutoML['model']\n",
    "    X_test=dataAutoML['X_test']\n",
    "    y_test=dataAutoML['y_test']\n",
    "    label=dataAutoML['label']\n",
    "    columnNames=dataAutoML['columnNames']\n",
    "    if label in columnNames:\n",
    "        columnNames.remove(label)\n",
    "    predicted=label+\"_predicted\"\n",
    "    y_predicted=model.predict(X_test)\n",
    "    df =pd.DataFrame(X_test , columns=columnNames)\n",
    "    df[label]=y_test\n",
    "    df[predicted]=y_predicted\n",
    "    columnNames.insert(0,predicted)\n",
    "    columnNames.insert(0,label)\n",
    "    Accuracy = np.round((100 * sklearn.metrics.accuracy_score(y_true=y_test, y_pred=y_predicted)), 1)\n",
    "    F1= np.round(\n",
    "            (100 * sklearn.metrics.f1_score(y_true=y_test, y_pred=y_predicted, average=\"weighted\")), 1)\n",
    "    Precision= np.round((\n",
    "                100 * sklearn.metrics.precision_score(y_true=y_test, y_pred=y_predicted, average=\"weighted\")), 1)\n",
    "    Recall = np.round((\n",
    "                100 * sklearn.metrics.recall_score(y_true=y_test, y_pred=y_predicted, average=\"weighted\")), 1)\n",
    "    display(\" Accuracy of Prediction on test data    : %s\"%Accuracy)\n",
    "    display(\" F1 score of Prediction on test data    : %s\"%F1)\n",
    "    display(\" Precision of Prediction on test data   : %s\"%Precision)\n",
    "    display(\" Recall of Prediction on test data      : %s\"%Recall)\n",
    "    display(df.head())\n",
    "except Exception as ex:\n",
    "    logging.error(ex)\n",
    "\n"
   ]
  }
 ],
 "metadata": {},
 "nbformat": 4,
 "nbformat_minor": 2
}
